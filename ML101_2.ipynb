{
 "cells": [
  {
   "cell_type": "markdown",
   "id": "61208b6d",
   "metadata": {},
   "source": [
    "\n",
    "\n",
    "#  <span style=\"color:#0b186c;\">Introduction to ML: Unsupervised Learning</span>\n",
    "\n",
    "---\n",
    "\n",
    "“Machine learning is a branch of artificial intelligence (AI) and computer science which focuses on the use of data and algorithms to imitate the way that humans learn, gradually improving its accuracy.” – IBM 2020\n",
    "\n",
    "\n",
    "\n",
    "<br></br>\n",
    "\n",
    "## <span style=\"color:#0b186c;\">Table of Contents:</span>\n",
    "* [Supervised vs Unsupervised Learning](#first-bullet)\n",
    "* [Dataset Information](#second-bullet)\n",
    "* [Unsupervised Learning](#third-bullet)\n",
    "* [Conclusion](#fourth-bullet)"
   ]
  },
  {
   "cell_type": "markdown",
   "id": "03ce6260",
   "metadata": {},
   "source": [
    "#  <span style=\"color:#0b186c;\">Supervised vs Unsupervised Learning</span><a class=\"anchor\" id=\"first-bullet\"></a>\n",
    "\n",
    "---\n",
    "\n",
    "\n",
    "\n",
    "## <span style=\"color:#0b186c;\">Required Imports:</span>\n",
    "\n",
    "<div class=\"alert alert-warning\">\n",
    "\n",
    "<b>Note:</b> If you have not previously installed these `packages`, you can use the cell below to perform the required `pip` installs.\n",
    "\n",
    "</div>"
   ]
  },
  {
   "cell_type": "code",
   "execution_count": null,
   "id": "5992e26f",
   "metadata": {},
   "outputs": [],
   "source": [
    "# In case you still need to perform some pip installs:\n",
    "! pip install --user pandas -q\n",
    "! pip install --user numpy -q\n",
    "! pip install --user scikit-learn -q"
   ]
  },
  {
   "cell_type": "code",
   "execution_count": null,
   "id": "e6e1fc8d",
   "metadata": {},
   "outputs": [],
   "source": [
    "# Dataframe and array libraries\n",
    "import pandas as pd\n",
    "import numpy as np\n",
    "\n",
    "# Libraries for visualizing data\n",
    "import matplotlib.pyplot as plt\n",
    "import seaborn as sns\n",
    "\n",
    "# Retrieves the dataset from Scikit-learn\n",
    "from sklearn.datasets import load_iris\n",
    "\n",
    "# Required for instantiating and running a KMeans clustering model\n",
    "from sklearn.cluster import KMeans\n",
    "\n",
    "# Filters out warning messages\n",
    "import warnings\n",
    "warnings.filterwarnings('ignore')"
   ]
  },
  {
   "cell_type": "markdown",
   "id": "b908345b",
   "metadata": {},
   "source": [
    "#  <span style=\"color:#0b186c;\">Dataset Information</span><a class=\"anchor\" id=\"second-bullet\"></a>\n",
    "\n",
    "---\n",
    "\n",
    "We will be using a dataset containing 3 species in the Iris genus, namely, Iris Setosa, Iris Versicolor and Iris Virginica found in the Gaspé Peninsula. For the purposes of an integral study, the collected Iris samples were, \"all from the same pasture, and picked on the same day and measured at the same time by the same person with the same apparatus.\" The dataset contains 150 rows of data, 50 rows of data for each species of Iris flower. The column names represent the feature of the flower that was studied and recorded.\n",
    "\n",
    "Our target dataset can be found in the Scikit-learn library, so we will be importing it directly from the library and storing it into a Pandas dataframe.\n",
    "\n",
    "https://scikit-learn.org/stable/auto_examples/datasets/plot_iris_dataset.html"
   ]
  },
  {
   "cell_type": "code",
   "execution_count": null,
   "id": "837777dd",
   "metadata": {},
   "outputs": [],
   "source": [
    "# Import the iris dataset\n",
    "iris = load_iris(as_frame=True)\n",
    "\n",
    "# Place the dataset into a dataframe\n",
    "df = iris.frame \n",
    "\n",
    "# View the first 5 records in the dataset\n",
    "df.head()"
   ]
  },
  {
   "cell_type": "markdown",
   "id": "90b32391",
   "metadata": {},
   "source": [
    "\n",
    "\n",
    "A sepal is a part of the flower of angiosperms. Usually green, sepals typically function as protection for the flower in bud, and often as support for the petals when in bloom. Petals are modified leaves that surround the reproductive parts of flowers. They are often brightly colored or unusually shaped to attract pollinators. \n",
    "\n",
    "\n",
    "\n",
    "The petal and sepal measurement values allow us to look for patterns related to the specific species of Iris flower.\n",
    "\n",
    "\n",
    "<div class=\"alert alert-info\">\n",
    "   \n",
    "We can use the `.info()` method for our dataframe to view a concise summary of the information contained within. This includes the number of observations, columns and data types, and any missing values.\n",
    "    \n",
    " </div>"
   ]
  },
  {
   "cell_type": "code",
   "execution_count": null,
   "id": "3b63a406",
   "metadata": {},
   "outputs": [],
   "source": [
    "df.info()"
   ]
  },
  {
   "cell_type": "markdown",
   "id": "0513e074",
   "metadata": {},
   "source": [
    "<div class=\"alert alert-info\">\n",
    "   \n",
    "For numerical features in the dataframe, we can use the `.describe()` method to view relevant statistical information about each of the features. Understanding these values can assist in identifying the presence of outliers.\n",
    "    \n",
    " </div>"
   ]
  },
  {
   "cell_type": "code",
   "execution_count": null,
   "id": "c6a24ae4",
   "metadata": {},
   "outputs": [],
   "source": [
    "df.describe()"
   ]
  },
  {
   "cell_type": "markdown",
   "id": "c5d19616",
   "metadata": {},
   "source": [
    "<div class=\"alert alert-info\">\n",
    "   \n",
    "Additionally, we can use a `.pairplot()` from the `seaborn` library to visualize a scatter matrix of the independent variables. We can color code the plotted points based on the `target` feature to identify any discernable patterns in the measurement values.\n",
    "    \n",
    " </div>"
   ]
  },
  {
   "cell_type": "code",
   "execution_count": null,
   "id": "27cb4f80",
   "metadata": {},
   "outputs": [],
   "source": [
    "# Set the figure size\n",
    "sns.set(rc={'figure.figsize':(12,8),'ytick.labelsize':(12)})\n",
    "\n",
    "# Create a pairplot\n",
    "sns.pairplot(df, hue = \"target\", palette = \"Set2\")"
   ]
  },
  {
   "cell_type": "markdown",
   "id": "62c5d49c",
   "metadata": {},
   "source": [
    "<div class=\"alert alert-info\">\n",
    "   \n",
    "Our dataset contains an equal number of observations for each of the Iris flowers. We can visualize the target variable distributions with a pie chart:\n",
    "    \n",
    "</div>"
   ]
  },
  {
   "cell_type": "code",
   "execution_count": null,
   "id": "1139a1e7",
   "metadata": {},
   "outputs": [],
   "source": [
    "# Create a pie chart for the target variable\n",
    "df.target.value_counts().plot(kind='pie', figsize=(8, 8), fontsize=10, autopct='%1.0f%%')\n",
    "plt.title(\"Target Variable Distribution\", fontsize = 20)\n",
    "plt.show()"
   ]
  },
  {
   "cell_type": "markdown",
   "id": "6d0d8ac0",
   "metadata": {},
   "source": [
    "<div class=\"alert alert-info\">\n",
    "   \n",
    "Lastly, we can use the `.corr()` method on our dataframe to identify linear relationships between the independent variables and the dependent variable. This also helps identify collinearity that may exist amongst the independent variables as well. The correlation matrix can be enhanced by using a `.heatmap()` from the `seaborn` library that scales the specified hue based on the severity of the linear relationship.\n",
    "    \n",
    "</div>"
   ]
  },
  {
   "cell_type": "code",
   "execution_count": null,
   "id": "bbf722ff",
   "metadata": {},
   "outputs": [],
   "source": [
    "# Set the figure size\n",
    "sns.set(rc={'figure.figsize':(12,8),'ytick.labelsize':(12)})\n",
    "\n",
    "# Use the corr method to create the correlation matrix\n",
    "correlation_matrix = df.corr().round(2)\n",
    "\n",
    "# Create a heatmap based on the severity of the linear relationship\n",
    "sns.heatmap(data = correlation_matrix, annot = True, cmap = \"Blues\")\n",
    "plt.title(\"Variable Correlation Heatmap\\n\", fontsize = 20)\n",
    "plt.show()"
   ]
  },
  {
   "cell_type": "markdown",
   "id": "0de651e0",
   "metadata": {},
   "source": [
    "#  <span style=\"color:#0b186c;\">Unsupervised Learning</span><a class=\"anchor\" id=\"third-bullet\"></a>\n",
    "\n",
    "---\n",
    "\n",
    "In Unsupervised Learning, the algorithms are not provided with an expected output in the form of a dependent variable. The algorithm extrapolates patterns from the input variables and draws its own conclusions about the unlabeled data. Unsupervised Learning can primarily be grouped into two subcategories, Clustering and Dimensionality Reduction.\n",
    "\n",
    "- Clustering models group data points based on similarity and separate groups by dissimilarity.\n",
    "- Dimensionality Reduction models transform data from the original dimensional space into a smaller dimension, while still capturing meaningful variance in the data."
   ]
  },
  {
   "cell_type": "markdown",
   "id": "42236e4b",
   "metadata": {},
   "source": [
    "## <span style=\"color:#0b186c;\">Clustering of Unlabeled Flowers</span>\n",
    "\n",
    "The independent variables from the iris dataset can be isolated without the target label to perform clustering. This provides a good opportunity to compare the outcomes of clustering with the known labels in the dataset. One of the simplest forms of a clustering model is the `KMeans`. First, let's review the independent variables stored in `X`:"
   ]
  },
  {
   "cell_type": "code",
   "execution_count": null,
   "id": "1efd50aa",
   "metadata": {},
   "outputs": [],
   "source": [
    "# Split the independent (X) and dependent (y) variables\n",
    "X = df.iloc[:, :-1]\n",
    "y = df.iloc[:, -1].values\n",
    "\n",
    "# Review the input variables without a target label\n",
    "X"
   ]
  },
  {
   "cell_type": "markdown",
   "id": "7caebb78",
   "metadata": {},
   "source": [
    "Clustering algorithms work by defining clusters, or groups of data points, such that the total intra-cluster variation is minimized. The KMeans algorithm accomplishes this by decreasing the within-cluster sum of squares, or the deviations from each observation and the cluster centroid. The centroids are what determines the total number of cluster centers present in the data. The Naive method for determining the optimal number of clusters is by plotting the inertia, which represents the within-cluster sum of squares, against the number of clusters and identifying the `elbow curve`.\n",
    "\n",
    "https://scikit-learn.org/stable/modules/generated/sklearn.cluster.KMeans.html"
   ]
  },
  {
   "cell_type": "code",
   "execution_count": null,
   "id": "cf746fa2",
   "metadata": {},
   "outputs": [],
   "source": [
    "# Instantiate the KMeans algorithm, fit on 2 to 10 clusters\n",
    "km = [KMeans(n_clusters=i, n_init=\"auto\").fit(X) for i in range(2, 11)]\n",
    "\n",
    "# Calculate the within-cluster sum of squares for each number of clusters\n",
    "scores = [km[i].score(X) for i in range(len(km))]\n",
    "\n",
    "# Plot the number of clusters against their respective within-cluster sum of squares\n",
    "fig, ax = plt.subplots(figsize=(10,6))\n",
    "ax.plot(range(2, 11), scores)\n",
    "plt.xlabel('Number of Clusters')\n",
    "plt.ylabel('Score')\n",
    "plt.title('Elbow Curve')\n",
    "plt.show()"
   ]
  },
  {
   "cell_type": "code",
   "execution_count": null,
   "id": "6dd0eb4e",
   "metadata": {},
   "outputs": [],
   "source": [
    "# Instantiate the clustering algorithm with optimal number of clusters\n",
    "km = KMeans(n_clusters=3)\n",
    "\n",
    "# Fit on the input data\n",
    "km.fit(X)\n",
    "\n",
    "# Predict the labels (assigned cluster)\n",
    "km.predict(X)\n",
    "\n",
    "# View the output labels\n",
    "print(km.labels_)"
   ]
  },
  {
   "cell_type": "markdown",
   "id": "83c5be7f",
   "metadata": {},
   "source": [
    "Our original data had 3 different types of Iris genus, each with distinctive features. We can compare the outcome of our clustering against the `.pairplot()` on the original data. As you can see, the Setosa genus is starkly different from the other 2 types of flowers. There is a less discernable line between the Virginica and Versicolor species, which is reflected in the overlap of data points.\n",
    "\n",
    "In the `elbow curve` above, we saw that the greatest variance was captured at the 3rd cluster. After the 4th cluster, there was very little difference to the captured variance. This is highlights the difference between working with labeled data in Supervised Learning vs unlabeled data in Unsupervised Learning."
   ]
  },
  {
   "cell_type": "code",
   "execution_count": null,
   "id": "2ccd7743",
   "metadata": {},
   "outputs": [],
   "source": [
    "# Set the figure size\n",
    "sns.set(rc={'figure.figsize':(12,8),'ytick.labelsize':(12)})\n",
    "\n",
    "# Add the cluster labels to the dataframe\n",
    "X['clusters'] = km.labels_\n",
    "\n",
    "# Create a pairplot with the color-coded clusters\n",
    "sns.pairplot(X, hue = \"clusters\", palette = \"Set2\")"
   ]
  },
  {
   "cell_type": "code",
   "execution_count": null,
   "id": "8c7f706d",
   "metadata": {},
   "outputs": [],
   "source": [
    "# Create a pie chart for the cluster variable\n",
    "X.clusters.value_counts().plot(kind='pie', figsize=(8, 8), fontsize=10, autopct='%1.0f%%')\n",
    "plt.title(\"Target Cluster Distribution\", fontsize = 20)\n",
    "plt.show()"
   ]
  },
  {
   "cell_type": "markdown",
   "id": "26c4cd07",
   "metadata": {},
   "source": [
    "#  <span style=\"color:#0b186c;\">Conclusion</span><a class=\"anchor\" id=\"fourth-bullet\"></a>\n",
    "\n",
    "---"
   ]
  }
 ],
 "metadata": {
  "kernelspec": {
   "display_name": "Python 3 (ipykernel)",
   "language": "python",
   "name": "python3"
  },
  "language_info": {
   "codemirror_mode": {
    "name": "ipython",
    "version": 3
   },
   "file_extension": ".py",
   "mimetype": "text/x-python",
   "name": "python",
   "nbconvert_exporter": "python",
   "pygments_lexer": "ipython3",
   "version": "3.9.15"
  }
 },
 "nbformat": 4,
 "nbformat_minor": 5
}
