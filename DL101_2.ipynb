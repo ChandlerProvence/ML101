{
 "cells": [
  {
   "cell_type": "markdown",
   "id": "61208b6d",
   "metadata": {},
   "source": [
    "\n",
    "\n",
    "#  <span style=\"color:#0b186c;\">Introduction to DL: Building Networks in TensorFlow</span>\n",
    "\n",
    "---\n",
    "\n",
    "“Deep learning is a subset of machine learning that's based on artificial neural networks. The learning process is deep because the structure of artificial neural networks consists of multiple input, output, and hidden layers. Each layer contains units that transform the input data into information that the next layer can use for a certain predictive task. Thanks to this structure, a machine can learn through its own data processing.” - Microsoft, 2022\n",
    "\n",
    "\n",
    "<br></br>\n",
    "\n",
    "## <span style=\"color:#0b186c;\">Table of Contents:</span>\n",
    "* [Artificial Neural Networks (ANNs)](#first-bullet)\n",
    "* [Hello World](#second-bullet)\n",
    "* [Dataset Information](#third-bullet)\n",
    "* [Sequential Model](#fourth-bullet)\n",
    "* [Conclusion](#fifth-bullet)"
   ]
  },
  {
   "cell_type": "markdown",
   "id": "03ce6260",
   "metadata": {},
   "source": [
    "#  <span style=\"color:#0b186c;\">Artificial Neural Networks (ANNs)</span><a class=\"anchor\" id=\"first-bullet\"></a>\n",
    "\n",
    "---\n",
    "\n",
    "\n",
    "Artificial Neural Networks (ANNs) are composed of artificial neurons, or nodes, that mimic the learning paths of the human brain. The ANN can contain any number of neurons organized in the form of any number of interconnected layers. The first layer, the input layer, contains nodes representing the features in the dataset used to train the model. The final layer, or output layer, indicates the dimentionality of the target variable. The layers between the input and output are hidden layers containing connections modeled as weights, which represent the neuron's interpretation of feature importance in predicting the output value. ANNs also use Bias, a constant parameter which helps adjust the weighted sum of the inputs to the neuron for the best fit on the data. Lastly, Activation Functions are non-linear transformations that define the output of a neuron before sending it to the next layer of neurons or finalizing the output determination of the model.\n",
    "\n",
    "\n",
    "There are many different libraries associated with Deep Learning in Python, however, PyTorch and Tensorflow are two of the most common open-source frameworks used to create Neural Networks. While Tensorflow is an end-to-end open-source library for ML and DL, interfacing is accomplished through a library called Keras. There are 2 primary ways to create a Keras model:\n",
    "\n",
    "- The Functional API, which is the easy-to-use, fully-featured API supporting arbitrary model architectures.\n",
    "- The Sequential model, which is a limited single-input, single-output stack of layers (ordered sequentially).\n",
    "\n",
    "\n",
    "## <span style=\"color:#0b186c;\">Required Imports:</span>\n",
    "\n",
    "<div class=\"alert alert-warning\">\n",
    "\n",
    "<b>Note:</b> If you have not previously installed these `packages`, you can use the cell below to perform the required `pip` installs.\n",
    "\n",
    "</div>"
   ]
  },
  {
   "cell_type": "code",
   "execution_count": null,
   "id": "5992e26f",
   "metadata": {},
   "outputs": [],
   "source": [
    "# In case you still need to perform some pip installs:\n",
    "! pip install --user pandas -q\n",
    "! pip install --user numpy -q\n",
    "! pip install --user tensorflow -q"
   ]
  },
  {
   "cell_type": "code",
   "execution_count": null,
   "id": "e6e1fc8d",
   "metadata": {},
   "outputs": [],
   "source": [
    "# Dataframe and array libraries\n",
    "import pandas as pd\n",
    "import numpy as np\n",
    "\n",
    "# Libraries for visualizing data\n",
    "import matplotlib.pyplot as plt\n",
    "import seaborn as sns\n",
    "\n",
    "# Retrieves the dataset from Scikit-learn\n",
    "from sklearn.datasets import load_iris\n",
    "\n",
    "# Required for performing standardization\n",
    "from sklearn.preprocessing import StandardScaler\n",
    "\n",
    "# Required for training and validating a model\n",
    "from sklearn.model_selection import train_test_split\n",
    "\n",
    "# Required for instantiating and building Sequential neural networks\n",
    "import tensorflow as tf\n",
    "from tensorflow import keras\n",
    "\n",
    "# Classification metrics and confusion matrix\n",
    "from sklearn.metrics import confusion_matrix, accuracy_score, ConfusionMatrixDisplay\n",
    "\n",
    "# Filters out warning messages\n",
    "import warnings\n",
    "warnings.filterwarnings('ignore')"
   ]
  },
  {
   "cell_type": "markdown",
   "id": "b908345b",
   "metadata": {},
   "source": [
    "#  <span style=\"color:#0b186c;\">Hello World</span><a class=\"anchor\" id=\"second-bullet\"></a>\n",
    "\n",
    "---\n",
    "\n",
    "Neural networks learn how to appropriately weight the feature importance of input variables to be mapped to an output through an iterative learning process. The mathematical relationship between the various input variables and the output variable is approximated by the neural network model and is used to make predictions on future values. The simplest form of a Neural Network is a single neuron with only one interconnected layer. In Keras, the word for a simple, interconnected layer is `Dense`. \n",
    "\n",
    "In the cells below, we instantiate an array of `x` values that have a straightforward, mathematical relationship to their corresponding `y` values. Next, we build a single-layered `model` with one `unit` (neuron). We then `compile` the model by defining a `loss` and `optimizer` function. Since the model doesn't know the relationship between the x and y values, it has to guess. The loss function defines how the effectiveness of the model's guess is evaluated and scored by comparing the guessed answers with the known correct answers in the dataset. After each guess, the optimizer defines the logic used to update the weights learned by the model to minimize the loss function. This process continues iteratively for the defined number of `epochs` in the `fit` function."
   ]
  },
  {
   "cell_type": "code",
   "execution_count": null,
   "id": "837777dd",
   "metadata": {},
   "outputs": [],
   "source": [
    "# First, let's create some data with an easily discernable pattern\n",
    "xs = np.array([0.0, 1.0, 2.0, 3.0, 4.0, 5.0, 6.0, 7.0, 8.0, 9.0], dtype=float)\n",
    "ys = np.array([-1.0, 9.0, 19.0, 29.0, 39.0, 49.0, 59.0, 69.0, 79.0, 89.0], dtype=float)\n",
    "\n",
    "# Build a simple Sequential model\n",
    "model = tf.keras.Sequential([keras.layers.Dense(units=1, input_shape=[1])])\n",
    "\n",
    "# Compile the model\n",
    "model.compile(optimizer='sgd', loss='mean_squared_error')\n",
    "\n",
    "# Train the model\n",
    "model.fit(xs, ys, epochs=100)"
   ]
  },
  {
   "cell_type": "code",
   "execution_count": null,
   "id": "d2efc120",
   "metadata": {},
   "outputs": [],
   "source": [
    "# Make a prediction\n",
    "print(model.predict([10.0]))"
   ]
  },
  {
   "cell_type": "markdown",
   "id": "90b32391",
   "metadata": {},
   "source": [
    "<div class=\"alert alert-warning\">\n",
    "\n",
    "It is important to remember that the output of Neural Networks deals in probability. Based on the input data provided to the model, it approximates the probability of the relationship mapping between x and y. While we may be able to identify the relationship between these 10 data points mathematically, the model does not deal in certainties. Therefore, the output of our prediction may be very close, but not necessarily the exact answer.\n",
    "\n",
    "</div>"
   ]
  },
  {
   "cell_type": "markdown",
   "id": "abd24195",
   "metadata": {},
   "source": [
    "#  <span style=\"color:#0b186c;\">Dataset Information</span><a class=\"anchor\" id=\"third-bullet\"></a>\n",
    "\n",
    "---\n",
    "\n",
    "We will be using a dataset containing 3 species in the Iris genus, namely, Iris Setosa, Iris Versicolor and Iris Virginica found in the Gaspé Peninsula. For the purposes of an integral study, the collected Iris samples were, \"all from the same pasture, and picked on the same day and measured at the same time by the same person with the same apparatus.\" The dataset contains 150 rows of data, 50 rows of data for each species of Iris flower. The column names represent the feature of the flower that was studied and recorded.\n",
    "\n",
    "Our target dataset can be found in the Scikit-learn library, so we will be importing it directly from the library and storing it into a Pandas dataframe.\n",
    "\n",
    "https://scikit-learn.org/stable/auto_examples/datasets/plot_iris_dataset.html"
   ]
  },
  {
   "cell_type": "code",
   "execution_count": null,
   "id": "312f2d95",
   "metadata": {},
   "outputs": [],
   "source": [
    "# Import the iris dataset\n",
    "iris = load_iris(as_frame=True)\n",
    "\n",
    "# Place the dataset into a dataframe\n",
    "df = iris.frame \n",
    "\n",
    "# View the first 5 records in the dataset\n",
    "df.head(10)"
   ]
  },
  {
   "cell_type": "markdown",
   "id": "433ea77d",
   "metadata": {},
   "source": [
    "\n",
    "\n",
    "A sepal is a part of the flower of angiosperms. Usually green, sepals typically function as protection for the flower in bud, and often as support for the petals when in bloom. Petals are modified leaves that surround the reproductive parts of flowers. They are often brightly colored or unusually shaped to attract pollinators. \n",
    "\n",
    "\n",
    "\n",
    "The petal and sepal measurement values allow us to look for patterns related to the specific species of Iris flower.\n",
    "\n",
    "\n",
    "<div class=\"alert alert-info\">\n",
    "   \n",
    "We can use the `.info()` method for our dataframe to view a concise summary of the information contained within. This includes the number of observations, columns and data types, and any missing values.\n",
    "    \n",
    " </div>"
   ]
  },
  {
   "cell_type": "code",
   "execution_count": null,
   "id": "3b63a406",
   "metadata": {},
   "outputs": [],
   "source": [
    "df.info()"
   ]
  },
  {
   "cell_type": "markdown",
   "id": "0513e074",
   "metadata": {},
   "source": [
    "<div class=\"alert alert-info\">\n",
    "   \n",
    "For numerical features in the dataframe, we can use the `.describe()` method to view relevant statistical information about each of the features. Understanding these values can assist in identifying the presence of outliers.\n",
    "    \n",
    " </div>"
   ]
  },
  {
   "cell_type": "code",
   "execution_count": null,
   "id": "c6a24ae4",
   "metadata": {},
   "outputs": [],
   "source": [
    "df.describe()"
   ]
  },
  {
   "cell_type": "markdown",
   "id": "c5d19616",
   "metadata": {},
   "source": [
    "<div class=\"alert alert-info\">\n",
    "   \n",
    "Additionally, we can use a `.pairplot()` from the `seaborn` library to visualize a scatter matrix of the independent variables. We can color code the plotted points based on the `target` feature to identify any discernable patterns in the measurement values.\n",
    "    \n",
    " </div>"
   ]
  },
  {
   "cell_type": "code",
   "execution_count": null,
   "id": "27cb4f80",
   "metadata": {},
   "outputs": [],
   "source": [
    "# Set the figure size\n",
    "sns.set(rc={'figure.figsize':(12,8),'ytick.labelsize':(12)})\n",
    "\n",
    "# Create a pairplot\n",
    "sns.pairplot(df, hue = \"target\", palette = \"Set2\")"
   ]
  },
  {
   "cell_type": "markdown",
   "id": "62c5d49c",
   "metadata": {},
   "source": [
    "<div class=\"alert alert-info\">\n",
    "   \n",
    "Our dataset contains an equal number of observations for each of the Iris flowers. We can visualize the target variable distributions with a pie chart:\n",
    "    \n",
    "</div>"
   ]
  },
  {
   "cell_type": "code",
   "execution_count": null,
   "id": "1139a1e7",
   "metadata": {},
   "outputs": [],
   "source": [
    "# Create a pie chart for the target variable\n",
    "df.target.value_counts().plot(kind='pie', figsize=(8, 8), fontsize=10, autopct='%1.0f%%')\n",
    "plt.title(\"Target Variable Distribution\", fontsize = 20)\n",
    "plt.show()"
   ]
  },
  {
   "cell_type": "markdown",
   "id": "6d0d8ac0",
   "metadata": {},
   "source": [
    "<div class=\"alert alert-info\">\n",
    "   \n",
    "Lastly, we can use the `.corr()` method on our dataframe to identify linear relationships between the independent variables and the dependent variable. This also helps identify collinearity that may exist amongst the independent variables as well. The correlation matrix can be enhanced by using a `.heatmap()` from the `seaborn` library that scales the specified hue based on the severity of the linear relationship.\n",
    "    \n",
    "</div>"
   ]
  },
  {
   "cell_type": "code",
   "execution_count": null,
   "id": "bbf722ff",
   "metadata": {},
   "outputs": [],
   "source": [
    "# Set the figure size\n",
    "sns.set(rc={'figure.figsize':(12,8),'ytick.labelsize':(12)})\n",
    "\n",
    "# Use the corr method to create the correlation matrix\n",
    "correlation_matrix = df.corr().round(2)\n",
    "\n",
    "# Create a heatmap based on the severity of the linear relationship\n",
    "sns.heatmap(data = correlation_matrix, annot = True, cmap = \"Blues\")\n",
    "plt.title(\"Variable Correlation Heatmap\\n\", fontsize = 20)\n",
    "plt.show()"
   ]
  },
  {
   "cell_type": "markdown",
   "id": "0de651e0",
   "metadata": {},
   "source": [
    "#  <span style=\"color:#0b186c;\">Sequential Model</span><a class=\"anchor\" id=\"fourth-bullet\"></a>\n",
    "\n",
    "---\n",
    "\n",
    "Expanding on our initial discussion on the `Sequential` model from Tensorflow, we can modify the layer architecture to create much more adaptable and robust solutions for more complex problems. While the Iris dataset is not necessarily complex, it is slightly more involved than a single input X value and a strong, linearly related y value. Therefore, we will add a couple more layers to our layer architecture and introduce activation functions.\n",
    "\n",
    "<div class=\"alert alert-info\">\n",
    "\n",
    "The `ReLU` (Rectified Linear Unit) activation function is one of the most widely used activation functions in neural networks. It is a non-linear function that outputs the input value to the neuron directly if it is positive, otherwise, it converts the output to 0 and the neuron does not get activated.\n",
    "    \n",
    "The `softmax` activation function is used for neural networks that predict multinomial probability distribution. This means the dependent variable contains more than 2 class labels (multi-class classification).\n",
    "\n",
    "</div>"
   ]
  },
  {
   "cell_type": "code",
   "execution_count": null,
   "id": "1efd50aa",
   "metadata": {},
   "outputs": [],
   "source": [
    "# Split the independent (X) and dependent (y) variables\n",
    "X = df.iloc[:, :-1]\n",
    "y = df.iloc[:, -1].values\n",
    "\n",
    "# Split the data into an 80/20 \n",
    "X_train, X_test, y_train, y_test = train_test_split(X, y, test_size = 0.2)\n",
    "\n",
    "# Output the shape of the training set\n",
    "X_train.shape"
   ]
  },
  {
   "cell_type": "code",
   "execution_count": null,
   "id": "911c5089",
   "metadata": {},
   "outputs": [],
   "source": [
    "# Build Sequential model using Dense layers\n",
    "model = tf.keras.models.Sequential([keras.layers.Dense(4, input_shape=[4]),\n",
    "                                    keras.layers.Dense(16, activation=tf.nn.relu),\n",
    "                                    keras.layers.Dense(3, activation=tf.nn.softmax)])\n",
    "model.summary()"
   ]
  },
  {
   "cell_type": "markdown",
   "id": "e910958d",
   "metadata": {},
   "source": [
    "<div class=\"alert alert-warning\">\n",
    "\n",
    "Since we are using an activation function in our output layer, we must also change the `optimizer` and `loss` functions to appropriately reflect the change in our model's iterative learning process. \n",
    "\n",
    "</div>"
   ]
  },
  {
   "cell_type": "code",
   "execution_count": null,
   "id": "9b765493",
   "metadata": {},
   "outputs": [],
   "source": [
    "# Compile the model with appropriate optimizer and loss functions\n",
    "model.compile(optimizer='adam', loss='sparse_categorical_crossentropy', metrics=['accuracy'])\n",
    "\n",
    "# Train the neural network on 100 epochs\n",
    "model.fit(X_train, y_train, epochs=100)"
   ]
  },
  {
   "cell_type": "code",
   "execution_count": null,
   "id": "aaae5646",
   "metadata": {},
   "outputs": [],
   "source": [
    "# Plot the model performance over epochs\n",
    "losses = pd.DataFrame(model.history.history)\n",
    "losses.plot()"
   ]
  },
  {
   "cell_type": "code",
   "execution_count": null,
   "id": "66dafbee",
   "metadata": {},
   "outputs": [],
   "source": [
    "# Make predictions based on the X values in the test set\n",
    "y_pred = model.predict(X_test)\n",
    "\n",
    "y_pred"
   ]
  },
  {
   "cell_type": "code",
   "execution_count": null,
   "id": "5c4a6a4b",
   "metadata": {},
   "outputs": [],
   "source": [
    "# Convert probabilities to labels, compare with true values\n",
    "y_pred = np.argmax(y_pred, axis=-1) \n",
    "\n",
    "# Calculate the accuracy score of the test set\n",
    "score = round((accuracy_score(y_test, y_pred) * 100), 2)\n",
    "\n",
    "#Plot the confusion Matrix for the predictions\n",
    "cm = confusion_matrix(y_test, y_pred)\n",
    "cm_display = ConfusionMatrixDisplay(cm)\n",
    "cm_display = cm_display.plot(include_values=True, cmap='Blues', ax=None, xticks_rotation='horizontal')\n",
    "plt.grid(False)\n",
    "plt.show()\n",
    "\n",
    "# Print the accuracy score on the validation data\n",
    "print(f\"Accuracy = {score}%\")"
   ]
  },
  {
   "cell_type": "markdown",
   "id": "26c4cd07",
   "metadata": {},
   "source": [
    "#  <span style=\"color:#0b186c;\">Conclusion</span><a class=\"anchor\" id=\"fourth-bullet\"></a>\n",
    "\n",
    "---"
   ]
  }
 ],
 "metadata": {
  "kernelspec": {
   "display_name": "Python 3 (ipykernel)",
   "language": "python",
   "name": "python3"
  },
  "language_info": {
   "codemirror_mode": {
    "name": "ipython",
    "version": 3
   },
   "file_extension": ".py",
   "mimetype": "text/x-python",
   "name": "python",
   "nbconvert_exporter": "python",
   "pygments_lexer": "ipython3",
   "version": "3.9.15"
  }
 },
 "nbformat": 4,
 "nbformat_minor": 5
}
